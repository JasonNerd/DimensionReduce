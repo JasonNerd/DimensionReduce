{
 "cells": [
  {
   "cell_type": "code",
   "execution_count": 1,
   "id": "a16dc272-1ca1-4e43-9dff-2ed7c20f7b90",
   "metadata": {},
   "outputs": [],
   "source": [
    "import numpy as np\n",
    "import os\n",
    "indy_path = \"../sub-indy/\"\n",
    "binned_file_root = \"binned_array/\"\n",
    "binned_arr_01ms = \"spike_binned_01ms.npy\"\n",
    "binned_file_path = indy_path+binned_file_root+binned_arr_01ms"
   ]
  },
  {
   "cell_type": "code",
   "execution_count": 7,
   "id": "14582a57-8618-4039-a2e1-9bb388a3fc5f",
   "metadata": {},
   "outputs": [
    {
     "data": {
      "text/plain": [
       "(649100, 130)"
      ]
     },
     "execution_count": 7,
     "metadata": {},
     "output_type": "execute_result"
    }
   ],
   "source": [
    "bs_01 = np.load(binned_file_path)\n",
    "bs_01.shape"
   ]
  },
  {
   "cell_type": "code",
   "execution_count": 8,
   "id": "355f3bb5-412c-49d2-9112-32c4e94e2158",
   "metadata": {},
   "outputs": [
    {
     "data": {
      "text/plain": [
       "(12982, 130)"
      ]
     },
     "execution_count": 8,
     "metadata": {},
     "output_type": "execute_result"
    }
   ],
   "source": [
    "# 使用50ms时间窗进行重采样(总时长649.1s)\n",
    "bin = 50\n",
    "seg_n = bs_01.shape[0] / bin\n",
    "segs = np.array_split(bs_01, seg_n, axis=0)\n",
    "segs = [np.sum(sb, axis=0) for sb in segs]\n",
    "bs_50 = np.array(segs)\n",
    "bs_50.shape"
   ]
  },
  {
   "cell_type": "code",
   "execution_count": 9,
   "id": "1eca1e14-8384-4196-9e13-34f73296eaca",
   "metadata": {},
   "outputs": [
    {
     "data": {
      "text/plain": [
       "array([  937.,  7789.,  3560.,  6465.,  1910.,  9400.,   778.,  5711.,\n",
       "          98.,  3016.,  1964.,    50.,   414.,  1154.,  2882.,  1192.,\n",
       "        2751.,  4821.,  2810.,  3144.,   117.,  1300.,  2187.,  3805.,\n",
       "         749.,   153.,   349.,  1829.,   135.,   400.,  1682.,   995.,\n",
       "         647.,   546.,  3610., 11440.,  1653.,   322.,   438.,  2173.,\n",
       "        4283.,   412.,  5804.,  4297.,   587.,  4857.,  1663.,  1368.,\n",
       "        4028.,  8513.,   502.,  3805.,   850.,  2981.,  1202.,  3636.,\n",
       "        2492.,   529.,  2056.,  3503.,   116.,   118.,  5796.,  3587.,\n",
       "        8057.,  2485.,   350., 12555.,  4063.,   111.,  1441.,  1917.,\n",
       "       12664.,  7560.,  1018.,  4299.,  4070.,  2923.,  1425.,  3867.,\n",
       "         612.,  1379.,  2811.,  3553.,  1486.,   246.,  6853.,  1934.,\n",
       "        4042.,  6209.,  6234.,  2110.,  3518.,  2185.,   297.,   553.,\n",
       "         211.,  1552.,   823.,    66.,  4359.,   111.,   269.,   119.,\n",
       "         660.,   589.,   735.,    93.,  2197.,  2547.,  3464.,   348.,\n",
       "         623.,  5142.,   271.,   711.,   325.,  4006.,  4351.,  4219.,\n",
       "        2611.,  2405.,  1930.,  2865.,  1809.,  5075.,  7388.,  1478.,\n",
       "        1247.,    87.])"
      ]
     },
     "execution_count": 9,
     "metadata": {},
     "output_type": "execute_result"
    }
   ],
   "source": [
    "bs_50.sum(axis=0)"
   ]
  },
  {
   "cell_type": "code",
   "execution_count": 11,
   "id": "a1587b0a-99be-41c8-a654-a7dc0893a67b",
   "metadata": {},
   "outputs": [
    {
     "data": {
      "text/plain": [
       "(649100, 2)"
      ]
     },
     "execution_count": 11,
     "metadata": {},
     "output_type": "execute_result"
    }
   ],
   "source": [
    "tp = np.load(indy_path+\"behaviors/target_pos.npy\")\n",
    "tp.shape"
   ]
  },
  {
   "cell_type": "code",
   "execution_count": 23,
   "id": "574150ac-a093-465b-8680-801b08bc077a",
   "metadata": {},
   "outputs": [
    {
     "data": {
      "text/plain": [
       "790"
      ]
     },
     "execution_count": 23,
     "metadata": {},
     "output_type": "execute_result"
    }
   ],
   "source": [
    "tr_edge = [0]\n",
    "tx0=tp[0,0]\n",
    "for i in range(tp.shape[0]):\n",
    "    tx = tp[i,0]\n",
    "    if tx != tx0:\n",
    "        tr_edge.append(i)\n",
    "        tx0=tx\n",
    "tr_edge.append(tp.shape[0])\n",
    "len(tr_edge)"
   ]
  },
  {
   "cell_type": "code",
   "execution_count": 26,
   "id": "7df13d6f-db23-4cd7-9791-0f62c82ab70d",
   "metadata": {},
   "outputs": [
    {
     "data": {
      "text/plain": [
       "(array([302.,   2.,   1.,  51., 231.,  93.,  32.,  13.,  20.,  16.,   6.,\n",
       "          8.,   5.,   3.,   2.,   1.,   0.,   2.,   0.,   1.]),\n",
       " array([1.00000e+00, 2.40150e+02, 4.79300e+02, 7.18450e+02, 9.57600e+02,\n",
       "        1.19675e+03, 1.43590e+03, 1.67505e+03, 1.91420e+03, 2.15335e+03,\n",
       "        2.39250e+03, 2.63165e+03, 2.87080e+03, 3.10995e+03, 3.34910e+03,\n",
       "        3.58825e+03, 3.82740e+03, 4.06655e+03, 4.30570e+03, 4.54485e+03,\n",
       "        4.78400e+03]),\n",
       " <BarContainer object of 20 artists>)"
      ]
     },
     "execution_count": 26,
     "metadata": {},
     "output_type": "execute_result"
    },
    {
     "data": {
      "image/png": "[encoded data removed]",
      "text/plain": [
       "<Figure size 640x480 with 1 Axes>"
      ]
     },
     "metadata": {},
     "output_type": "display_data"
    }
   ],
   "source": [
    "tr_time_ms = [(tr_edge[i+1]-tr_edge[i]) for i in range(len(tr_edge)-1)]\n",
    "import matplotlib.pyplot as plt\n",
    "plt.hist(tr_time_ms, bins=20)"
   ]
  },
  {
   "cell_type": "code",
   "execution_count": 30,
   "id": "c1c451a7-502a-4d52-a54a-197ea424aa3b",
   "metadata": {},
   "outputs": [
    {
     "data": {
      "text/plain": [
       "(11300, 13004)"
      ]
     },
     "execution_count": 30,
     "metadata": {},
     "output_type": "execute_result"
    }
   ],
   "source": [
    "trial_10_start, trial_10_stop = tr_edge[10], tr_edge[11]\n",
    "trial_10_start, trial_10_stop"
   ]
  },
  {
   "cell_type": "code",
   "execution_count": 31,
   "id": "24120817-3fe3-432e-b0f8-0f67ba75be67",
   "metadata": {},
   "outputs": [
    {
     "data": {
      "text/plain": [
       "(649100, 2)"
      ]
     },
     "execution_count": 31,
     "metadata": {},
     "output_type": "execute_result"
    }
   ],
   "source": [
    "# 将每一段实验分开\n",
    "indy_path = \"../sub-indy/\"\n",
    "trial_root = indy_path+\"trials/\"\n",
    "trial_n = len(tr_edge)-1\n",
    "cursor_pos = np.load(indy_path+\"behaviors/cursor_x_y.npy\")\n",
    "cursor_pos.shape"
   ]
  },
  {
   "cell_type": "code",
   "execution_count": 32,
   "id": "2cc1d1e2-a581-4720-a629-f1b79ba97471",
   "metadata": {},
   "outputs": [],
   "source": [
    "for i in range(trial_n):\n",
    "    ti_sp = bs_01[tr_edge[i]:tr_edge[i+1], :]\n",
    "    ti_xy = cursor_pos[tr_edge[i]:tr_edge[i+1], :]\n",
    "    ti_path = trial_root+\"trial_\"+str(i).zfill(3)+\"_\"+str(tr_edge[i+1]-tr_edge[i]).zfill(4)\n",
    "    os.mkdir(ti_path)\n",
    "    np.save(ti_path+\"/spike\", ti_sp)\n",
    "    np.save(ti_path+\"/cursor\", ti_xy)"
   ]
  },
  {
   "cell_type": "code",
   "execution_count": 52,
   "id": "2d054c85-a6c1-41c8-8e84-f9d57f0c7d0f",
   "metadata": {},
   "outputs": [
    {
     "data": {
      "text/plain": [
       "((1100, 130), (1100, 2))"
      ]
     },
     "execution_count": 52,
     "metadata": {},
     "output_type": "execute_result"
    }
   ],
   "source": [
    "# 画出某一个个trial的轨迹\n",
    "\n",
    "tr_n=1\n",
    "tl = os.listdir(trial_root)\n",
    "tr_spike = np.load(trial_root+tl[tr_n]+\"/spike.npy\")\n",
    "tr_cursor = np.load(trial_root+tl[tr_n]+\"/cursor.npy\")\n",
    "tr_spike.shape, tr_cursor.shape"
   ]
  },
  {
   "cell_type": "code",
   "execution_count": 53,
   "id": "fd191349-63c3-4855-95cc-c5a4680845bb",
   "metadata": {},
   "outputs": [
    {
     "data": {
      "text/plain": [
       "[<matplotlib.lines.Line2D at 0x216d4474c70>]"
      ]
     },
     "execution_count": 53,
     "metadata": {},
     "output_type": "execute_result"
    },
    {
     "data": {
      "image/png": "[encoded data removed]",
      "text/plain": [
       "<Figure size 640x480 with 1 Axes>"
      ]
     },
     "metadata": {},
     "output_type": "display_data"
    }
   ],
   "source": [
    "plt.plot(tr_cursor[:,0], tr_cursor[:,1])"
   ]
  },
  {
   "cell_type": "code",
   "execution_count": 63,
   "id": "a56275fe-f0ce-4e6b-a2ce-868eb780601b",
   "metadata": {},
   "outputs": [
    {
     "data": {
      "text/plain": [
       "(55, 130)"
      ]
     },
     "execution_count": 63,
     "metadata": {},
     "output_type": "execute_result"
    }
   ],
   "source": [
    "bin = 20\n",
    "seg_n = tr_spike.shape[0] / bin\n",
    "segs = np.array_split(tr_spike, seg_n, axis=0)\n",
    "segs = [np.sum(sb, axis=0) for sb in segs]\n",
    "tr_sp50 = np.array(segs)\n",
    "tr_sp50.shape"
   ]
  },
  {
   "cell_type": "code",
   "execution_count": 72,
   "id": "56a55bc6-c7f4-4436-a24c-6bc6f75368f2",
   "metadata": {},
   "outputs": [
    {
     "data": {
      "image/png": "[encoded data removed]",
      "text/plain": [
       "<Figure size 640x480 with 1 Axes>"
      ]
     },
     "metadata": {},
     "output_type": "display_data"
    }
   ],
   "source": [
    "plt.plot(tr_spike[:,5])\n",
    "plt.show()"
   ]
  },
  {
   "cell_type": "code",
   "execution_count": 75,
   "id": "111ee3bd-77a0-4f35-80a8-7fd9b741475d",
   "metadata": {},
   "outputs": [],
   "source": [
    "# 画实验轨迹\n",
    "sp_all=np.empty((0,130))\n",
    "cu_all=np.empty((0,2))\n",
    "for t in tl:\n",
    "    tr_spike = np.load(trial_root+t+\"/spike.npy\")\n",
    "    tr_cursor = np.load(trial_root+t+\"/cursor.npy\")\n",
    "    if tr_spike.shape[0] > 500:\n",
    "        plt.plot(tr_cursor[:,0], tr_cursor[:,1])\n",
    "        plt.savefig(indy_path+\"traces/\"+t+\".png\")\n",
    "        plt.close()\n",
    "        sp_all = np.vstack((sp_all, tr_spike))\n",
    "        cu_all = np.vstack((cu_all, tr_cursor))\n",
    "np.save(indy_path+\"raw/\"+\"spike\",sp_all)\n",
    "np.save(indy_path+\"raw/\"+\"position\",cu_all)"
   ]
  },
  {
   "cell_type": "code",
   "execution_count": 1,
   "id": "2dfc1e8f-814f-4759-9620-6b2e27d4b355",
   "metadata": {},
   "outputs": [
    {
     "data": {
      "text/plain": [
       "(130,)"
      ]
     },
     "execution_count": 1,
     "metadata": {},
     "output_type": "execute_result"
    }
   ],
   "source": [
    "\n",
    "import numpy as np\n",
    "import os\n",
    "import matplotlib.pyplot as plt\n",
    "\n",
    "indy_path = \"../sub-indy/\"\n",
    "trial_root = indy_path+\"trials/\"\n",
    "tl = os.listdir(trial_root)\n",
    "\n",
    "# 计算某一实验中每个神经元的发放次数(样本)\n",
    "def deg_neu(tr_n):\n",
    "    tr_spike = np.load(trial_root+tl[tr_n]+\"/spike.npy\")\n",
    "    sp_cnt = tr_spike.sum(axis=0)\n",
    "    return sp_cnt\n",
    "deg_neu(4).shape"
   ]
  },
  {
   "cell_type": "code",
   "execution_count": 2,
   "id": "3aae17ee-cb3b-4e48-9841-c7097c0fcba6",
   "metadata": {},
   "outputs": [
    {
     "data": {
      "text/plain": [
       "(0.9823546945112691, array([1.15130404]))"
      ]
     },
     "execution_count": 2,
     "metadata": {},
     "output_type": "execute_result"
    }
   ],
   "source": [
    "from sklearn.linear_model import LinearRegression\n",
    "# 检查某次实验是否有效, 也即判断轨迹是否线性\n",
    "# 函数返回None或(R2, k)\n",
    "def valid_sample(tr_n):\n",
    "    tr_cursor = np.load(trial_root+tl[tr_n]+\"/cursor.npy\")\n",
    "    if tr_cursor.shape[0] < 500:\n",
    "        return None\n",
    "    X, y = tr_cursor[:, 0], tr_cursor[:, 1]\n",
    "    X = X.reshape(-1,1)\n",
    "    model = LinearRegression()\n",
    "    model.fit(X, y)\n",
    "    y_pred = model.predict(X)\n",
    "    return model.score(X, y), model.coef_\n",
    "valid_sample(4)"
   ]
  },
  {
   "cell_type": "code",
   "execution_count": 3,
   "id": "13def5c6-197a-4b50-b664-3065cd230496",
   "metadata": {},
   "outputs": [
    {
     "data": {
      "text/plain": [
       "219"
      ]
     },
     "execution_count": 3,
     "metadata": {},
     "output_type": "execute_result"
    }
   ],
   "source": [
    "# 遍历并得到合法样本编号以及 y 值\n",
    "trvi = []\n",
    "trvy = []\n",
    "for i in range(len(tl)):\n",
    "    sc = valid_sample(i)\n",
    "    if sc is not None and sc[0] > 0.95:\n",
    "        trvi.append(i)\n",
    "        trvy.append(sc[1][0])\n",
    "len(trvi)"
   ]
  },
  {
   "cell_type": "code",
   "execution_count": 4,
   "id": "402ebaa3-bfee-495e-8732-2278c4592561",
   "metadata": {},
   "outputs": [
    {
     "data": {
      "text/plain": [
       "((219, 130), (219,))"
      ]
     },
     "execution_count": 4,
     "metadata": {},
     "output_type": "execute_result"
    }
   ],
   "source": [
    "X_data = [deg_neu(ti) for ti in trvi]\n",
    "X_data = np.array(X_data).reshape(-1,130)\n",
    "y = np.array(trvy)\n",
    "X_data.shape, y.shape"
   ]
  },
  {
   "cell_type": "code",
   "execution_count": 47,
   "id": "4cddf617-b32a-41b1-ad86-0ef9aa39a019",
   "metadata": {},
   "outputs": [],
   "source": [
    "from sklearn.decomposition import PCA, KernelPCA, TruncatedSVD, FastICA, NMF\n",
    "from sklearn.manifold import Isomap, MDS, LocallyLinearEmbedding, SpectralEmbedding, TSNE\n",
    "from sklearn.discriminant_analysis import LinearDiscriminantAnalysis\n",
    "from sklearn.preprocessing import MinMaxScaler, StandardScaler\n",
    "import warnings\n",
    "warnings.filterwarnings(\"ignore\")  # 忽略所有警告\n",
    "X_data = np.cos(X_data)\n",
    "def vis2d(ss, Method):\n",
    "    X_drm = ss.fit_transform(X_data)\n",
    "    drm = Method(n_components=2)\n",
    "    X_drm = drm.fit_transform(X_data)\n",
    "    X_drm_neg = X_drm[y<=0, :]\n",
    "    X_drm_pos = X_drm[y>0, :]\n",
    "    plt.scatter(X_drm_neg[:, 0], X_drm_neg[:, 1], color=\"r\")\n",
    "    plt.scatter(X_drm_pos[:, 0], X_drm_pos[:, 1], color=\"g\")\n",
    "    plt.savefig(\"./res2dcos/\"+Method.__name__+\"_\"+\n",
    "                type(ss).__name__+\".png\")\n",
    "    plt.close()"
   ]
  },
  {
   "cell_type": "code",
   "execution_count": null,
   "id": "f34b2e61-ff37-4d07-8b7e-19935c13bd0b",
   "metadata": {},
   "outputs": [],
   "source": [
    "methods = [PCA, KernelPCA, TruncatedSVD, FastICA,\n",
    "           Isomap, MDS, LocallyLinearEmbedding,\n",
    "           SpectralEmbedding, TSNE]\n",
    "scs = [MinMaxScaler(feature_range=(-1,1)), StandardScaler()]\n",
    "for m in methods:\n",
    "    for s in scs:\n",
    "        vis2d(s, m)"
   ]
  },
  {
   "cell_type": "code",
   "execution_count": 45,
   "id": "77399cf5-4e4a-4693-955b-3e718b7c81ee",
   "metadata": {},
   "outputs": [
    {
     "data": {
      "text/plain": [
       "0.689498432951747"
      ]
     },
     "execution_count": 45,
     "metadata": {},
     "output_type": "execute_result"
    }
   ],
   "source": [
    "np.cos(0.81)"
   ]
  },
  {
   "cell_type": "code",
   "execution_count": null,
   "id": "0bb999aa-3d7e-493c-a955-2473691609d0",
   "metadata": {},
   "outputs": [],
   "source": []
  }
 ],
 "metadata": {
  "kernelspec": {
   "display_name": "Python 3 (ipykernel)",
   "language": "python",
   "name": "python3"
  },
  "language_info": {
   "codemirror_mode": {
    "name": "ipython",
    "version": 3
   },
   "file_extension": ".py",
   "mimetype": "text/x-python",
   "name": "python",
   "nbconvert_exporter": "python",
   "pygments_lexer": "ipython3",
   "version": "3.8.13"
  }
 },
 "nbformat": 4,
 "nbformat_minor": 5
}
