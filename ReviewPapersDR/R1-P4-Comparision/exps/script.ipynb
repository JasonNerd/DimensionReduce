{
 "cells": [
  {
   "cell_type": "code",
   "execution_count": 40,
   "id": "4bccea1f-1b03-44eb-8c8d-5b395f94d555",
   "metadata": {},
   "outputs": [
    {
     "data": {
      "text/plain": [
       "((100, 96), (100,))"
      ]
     },
     "execution_count": 40,
     "metadata": {},
     "output_type": "execute_result"
    }
   ],
   "source": [
    "import numpy as np\n",
    "from matplotlib import pyplot as plt\n",
    "from ECG200Reader import get_train_data, get_test_data\n",
    "\n",
    "X_train, y_train = get_train_data()\n",
    "X_test, y_test = get_test_data()\n",
    "X_train.shape, y_train.shape"
   ]
  },
  {
   "cell_type": "code",
   "execution_count": 2,
   "id": "553c341e-76d6-4bf2-aab2-6282270b08be",
   "metadata": {},
   "outputs": [],
   "source": [
    "from sklearn.preprocessing import MinMaxScaler, StandardScaler\n",
    "mm = MinMaxScaler()\n",
    "ss = StandardScaler()"
   ]
  },
  {
   "cell_type": "code",
   "execution_count": 3,
   "id": "fe158af5-e613-4d7b-a715-f62ff37f5a4c",
   "metadata": {},
   "outputs": [],
   "source": [
    "X_test_normed = ss.fit_transform(mm.fit_transform(X_test))\n",
    "X_train_normed = ss.fit_transform(mm.fit_transform(X_train))"
   ]
  },
  {
   "cell_type": "code",
   "execution_count": 12,
   "id": "82afbf4f-c8e6-429a-bfb3-29571186d48c",
   "metadata": {},
   "outputs": [],
   "source": [
    "# 分别在原始数据集和新的数据集上训练(10次)\n",
    "from sklearn.svm import SVC\n",
    "from sklearn.model_selection import cross_val_score\n",
    "from sklearn.metrics import accuracy_score, f1_score"
   ]
  },
  {
   "cell_type": "code",
   "execution_count": 21,
   "id": "ea91f9d5-e626-4f8b-97dd-1a8be4b2fad4",
   "metadata": {},
   "outputs": [
    {
     "data": {
      "text/plain": [
       "(81, (100, 81))"
      ]
     },
     "execution_count": 21,
     "metadata": {},
     "output_type": "execute_result"
    }
   ],
   "source": [
    "# 降维数据集\n",
    "from sklearn.decomposition import PCA\n",
    "pca = PCA(n_components=1-1e-4)\n",
    "pca.fit(X_train_normed)\n",
    "X_train_pca = pca.transform(X_train_normed)\n",
    "opt_n_components = pca.n_components_\n",
    "opt_n_components, X_train_pca.shape"
   ]
  },
  {
   "cell_type": "code",
   "execution_count": 22,
   "id": "b5050ba9-b860-4c30-9947-3c8c63a8faf9",
   "metadata": {},
   "outputs": [
    {
     "data": {
      "text/plain": [
       "(100, 81)"
      ]
     },
     "execution_count": 22,
     "metadata": {},
     "output_type": "execute_result"
    }
   ],
   "source": [
    "pca = PCA(n_components=opt_n_components)\n",
    "pca.fit(X_test_normed)\n",
    "X_test_pca = pca.transform(X_test_normed)\n",
    "X_test_pca.shape"
   ]
  },
  {
   "cell_type": "code",
   "execution_count": 23,
   "id": "34a3c410-607d-4d44-8738-338ec9e7fcce",
   "metadata": {},
   "outputs": [
    {
     "data": {
      "text/plain": [
       "0.8333333333333333"
      ]
     },
     "execution_count": 23,
     "metadata": {},
     "output_type": "execute_result"
    }
   ],
   "source": [
    "def dim_reduced(X_data, y_label):\n",
    "    svm_clf = SVC(kernel='rbf')\n",
    "    cross_val_score(svm_clf, X_data, y_label, cv=10)\n",
    "    svm_clf.fit(X_data, y_label)\n",
    "    y_pred = svm_clf.predict(X_test_pca)\n",
    "    return f1_score(y_pred, y_test)\n",
    "acc = 0\n",
    "for i in range(10):\n",
    "    acc += dim_reduced(X_train_pca, y_train)\n",
    "acc/10"
   ]
  },
  {
   "cell_type": "code",
   "execution_count": 25,
   "id": "b84bc76e-2e82-4bfd-b676-195f892be26a",
   "metadata": {},
   "outputs": [
    {
     "data": {
      "text/plain": [
       "0.9104477611940298"
      ]
     },
     "execution_count": 25,
     "metadata": {},
     "output_type": "execute_result"
    }
   ],
   "source": [
    "# 原始数据集\n",
    "def original(X_data, y_label):\n",
    "    svm_clf = SVC(kernel='rbf')\n",
    "    cross_val_score(svm_clf, X_data, y_label, cv=10)\n",
    "    svm_clf.fit(X_data, y_label)\n",
    "    y_pred = svm_clf.predict(X_test_normed)\n",
    "    return f1_score(y_pred, y_test)\n",
    "acc = 0\n",
    "for i in range(10):\n",
    "    acc += original(X_train_normed, y_train)\n",
    "acc/10"
   ]
  },
  {
   "cell_type": "code",
   "execution_count": 57,
   "id": "ed8208ba-6851-471e-b19b-23db97902fa9",
   "metadata": {},
   "outputs": [
    {
     "data": {
      "text/plain": [
       "(0.8527131782945736, array([7]), (96,))"
      ]
     },
     "execution_count": 57,
     "metadata": {},
     "output_type": "execute_result"
    }
   ],
   "source": [
    "# KernelPCA\n",
    "from sklearn.decomposition import PCA, KernelPCA\n",
    "from sklearn.manifold import Isomap\n",
    "ncs, f1sc = [], []\n",
    "\n",
    "for nc in range(X_train.shape[1]):\n",
    "    # 1. 降维\n",
    "    pca = PCA(n_components=nc+1)\n",
    "    try:\n",
    "        pca.fit(X_train_normed)\n",
    "    except ValueError:\n",
    "        print(f\"Expection with pc {nc+1}\")\n",
    "    else:\n",
    "        X_train_pca = pca.transform(X_train_normed)\n",
    "        pca.fit(X_test_normed)\n",
    "        X_test_pca = pca.transform(X_test_normed)\n",
    "        # 2. 训练svm\n",
    "        svm_clf = SVC(kernel='rbf')\n",
    "        # cross_val_score(svm_clf, X_train_pca, y_train, cv=10)\n",
    "        svm_clf.fit(X_train_pca, y_train)\n",
    "        # 3. 在训练集上求 f1-sco, 保存结果\n",
    "        y_pred = svm_clf.predict(X_test_pca)\n",
    "        ncs.append(nc+1)\n",
    "        f1sc.append(f1_score(y_pred, y_test))\n",
    "ncs = np.array(ncs)\n",
    "f1sc = np.array(f1sc)\n",
    "f1sc.max(), ncs[f1sc==f1sc.max()], f1sc.shape"
   ]
  },
  {
   "cell_type": "code",
   "execution_count": 48,
   "id": "50830700-c24d-4235-88ef-6b9e3497e392",
   "metadata": {},
   "outputs": [
    {
     "data": {
      "text/plain": [
       "[<matplotlib.lines.Line2D at 0x258569149d0>]"
      ]
     },
     "execution_count": 48,
     "metadata": {},
     "output_type": "execute_result"
    },
    {
     "data": {
      "image/png": "[encoded data removed]",
      "text/plain": [
       "<Figure size 640x480 with 1 Axes>"
      ]
     },
     "metadata": {},
     "output_type": "display_data"
    }
   ],
   "source": [
    "plt.plot(ncs, f1sc)"
   ]
  },
  {
   "cell_type": "code",
   "execution_count": null,
   "id": "e2602639-14c1-4ff7-b80c-d12cc2e9c03e",
   "metadata": {},
   "outputs": [],
   "source": []
  }
 ],
 "metadata": {
  "kernelspec": {
   "display_name": "Python 3 (ipykernel)",
   "language": "python",
   "name": "python3"
  },
  "language_info": {
   "codemirror_mode": {
    "name": "ipython",
    "version": 3
   },
   "file_extension": ".py",
   "mimetype": "text/x-python",
   "name": "python",
   "nbconvert_exporter": "python",
   "pygments_lexer": "ipython3",
   "version": "3.8.13"
  }
 },
 "nbformat": 4,
 "nbformat_minor": 5
}
